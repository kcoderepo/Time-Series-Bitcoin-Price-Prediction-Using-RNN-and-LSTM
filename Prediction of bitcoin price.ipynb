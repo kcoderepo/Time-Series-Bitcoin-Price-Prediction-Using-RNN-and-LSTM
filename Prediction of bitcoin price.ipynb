{
 "cells": [
  {
   "cell_type": "markdown",
   "metadata": {},
   "source": [
    "# Implementing Change in bicoin price over timeseries with RNN and LSTM"
   ]
  },
  {
   "cell_type": "code",
   "execution_count": 1,
   "metadata": {},
   "outputs": [
    {
     "name": "stderr",
     "output_type": "stream",
     "text": [
      "Using TensorFlow backend.\n"
     ]
    }
   ],
   "source": [
    "from keras.layers.recurrent import LSTM\n",
    "from keras.layers import Bidirectional\n",
    "from keras.models import Sequential\n",
    "from keras.layers.core import Dense, Activation, Dropout\n",
    "from sklearn.metrics import mean_squared_error\n",
    "import numpy as np\n",
    "import matplotlib.pyplot as plt\n",
    "import pandas as pd\n",
    "import time\n",
    "import math"
   ]
  },
  {
   "cell_type": "code",
   "execution_count": 2,
   "metadata": {},
   "outputs": [],
   "source": [
    "def extract_datafrom_csv(filename, sequence_length):\n",
    "    \n",
    "    #Read file\n",
    "    rawdata = pd.read_csv(filename, dtype = float).values\n",
    "    #Changing all zeros to the number before the zero occurs\n",
    "    for i in range(0, rawdata.shape[0]):\n",
    "        for j in range(0, rawdata.shape[1]):\n",
    "            if(rawdata[i][j] == 0):\n",
    "                #print(\"i=\",i,\"j=\",j)\n",
    "                rawdata[i][j] = rawdata[i-1][j]\n",
    "                #print(data[i][j])\n",
    "    \n",
    "    #Converting file to a list\n",
    "    data = rawdata.tolist()\n",
    "    print(len(data))\n",
    "    #Convert the data to a 3D array (a x b x c) \n",
    "    #Where a is the number of days, b is the window size, and c is the number of features in the data file\n",
    "    result = []\n",
    "    for index in range(len(data) - sequence_length):\n",
    "        result.append(data[index: index + sequence_length])\n",
    "    \n",
    "    #Normalizing data by going through each window\n",
    "    #Every value in the window is divided by the first value in the window, and then 1 is subtracted\n",
    "    d0 = np.array(result)\n",
    "    dr = np.zeros_like(d0)\n",
    "    dr[:,1:,:] = d0[:,1:,:] / d0[:,0:1,:] - 1\n",
    "    \n",
    "    #Keeping the unnormalized prices for Y_test\n",
    "    #required to plot graph of bitcoin price over time \n",
    "    start = 2400\n",
    "    end = int(dr.shape[0] + 1)\n",
    "    unnormalized_bases = d0[start:end,0:1,20]\n",
    "    \n",
    "    #Splitting data set into training (First 90% of data points) and testing data (last 10% of data points)\n",
    "    split_line = round(0.9 * dr.shape[0])\n",
    "    training_data = dr[:int(split_line), :]\n",
    "    \n",
    "    #Shuffle the data\n",
    "    np.random.shuffle(training_data)\n",
    "    \n",
    "    #Training Data\n",
    "    X_train = training_data[:, :-1]\n",
    "    Y_train = training_data[:, -1]\n",
    "    Y_train = Y_train[:, 20]\n",
    "    \n",
    "    #Testing data\n",
    "    X_test = dr[int(split_line):, :-1]\n",
    "    Y_test = dr[int(split_line):, 49, :]\n",
    "    Y_test = Y_test[:, 20]\n",
    "\n",
    "    #Get the day before Y_test's price\n",
    "    Y_daybefore = dr[int(split_line):, 48, :]\n",
    "    Y_daybefore = Y_daybefore[:, 20]\n",
    "    \n",
    "    #Get window size and sequence length\n",
    "    sequence_length = sequence_length\n",
    "    window_size = sequence_length - 1 #because the last value is reserved as the y value\n",
    "    \n",
    "    return X_train, Y_train, X_test, Y_test, Y_daybefore, unnormalized_bases, window_size"
   ]
  },
  {
   "cell_type": "code",
   "execution_count": 4,
   "metadata": {},
   "outputs": [
    {
     "name": "stdout",
     "output_type": "stream",
     "text": [
      "2717\n",
      "(2400, 49, 35)\n",
      "(2400,)\n",
      "(267, 49, 35)\n",
      "(267,)\n",
      "(267,)\n",
      "(267, 1)\n",
      "49\n"
     ]
    }
   ],
   "source": [
    "X_train, Y_train, X_test, Y_test, Y_daybefore, unnormalized_bases, window_size = extract_datafrom_csv(\"Bitcoin Data.csv\", 50)\n",
    "print (X_train.shape)\n",
    "print (Y_train.shape)\n",
    "print (X_test.shape)\n",
    "print (Y_test.shape)\n",
    "print (Y_daybefore.shape)\n",
    "print (unnormalized_bases.shape)\n",
    "print (window_size)"
   ]
  },
  {
   "cell_type": "markdown",
   "metadata": {},
   "source": [
    "## Building the Model"
   ]
  },
  {
   "cell_type": "code",
   "execution_count": 8,
   "metadata": {},
   "outputs": [],
   "source": [
    "def build_model(window_size, dropout_value, activation_function, loss_function, optimizer):\n",
    "    \n",
    "    #Creating Sequential model using Keras\n",
    "    model = Sequential()\n",
    "\n",
    "    #First recurrent layer with dropout\n",
    "    model.add(Bidirectional(LSTM(window_size, return_sequences=True), input_shape=(window_size, X_train.shape[-1]),))\n",
    "    model.add(Dropout(dropout_value))\n",
    "\n",
    "    #Second recurrent layer with dropout\n",
    "    model.add(Bidirectional(LSTM((window_size*2), return_sequences=True)))\n",
    "    model.add(Dropout(dropout_value))\n",
    "\n",
    "    #Third recurrent layer\n",
    "    model.add(Bidirectional(LSTM(window_size, return_sequences=False)))\n",
    "\n",
    "    #Output layer - returns the predicted value)\n",
    "    model.add(Dense(units=1))\n",
    "    \n",
    "    #Set activation function\n",
    "    model.add(Activation(activation_function))\n",
    "\n",
    "    #Set loss function and optimizer\n",
    "    model.compile(loss=loss_function, optimizer=optimizer)\n",
    "    \n",
    "    return model"
   ]
  },
  {
   "cell_type": "code",
   "execution_count": 12,
   "metadata": {},
   "outputs": [
    {
     "name": "stdout",
     "output_type": "stream",
     "text": [
      "_________________________________________________________________\n",
      "Layer (type)                 Output Shape              Param #   \n",
      "=================================================================\n",
      "bidirectional_4 (Bidirection (None, 49, 98)            33320     \n",
      "_________________________________________________________________\n",
      "dropout_3 (Dropout)          (None, 49, 98)            0         \n",
      "_________________________________________________________________\n",
      "bidirectional_5 (Bidirection (None, 49, 196)           154448    \n",
      "_________________________________________________________________\n",
      "dropout_4 (Dropout)          (None, 49, 196)           0         \n",
      "_________________________________________________________________\n",
      "bidirectional_6 (Bidirection (None, 98)                96432     \n",
      "_________________________________________________________________\n",
      "dense_2 (Dense)              (None, 1)                 99        \n",
      "_________________________________________________________________\n",
      "activation_2 (Activation)    (None, 1)                 0         \n",
      "=================================================================\n",
      "Total params: 284,299\n",
      "Trainable params: 284,299\n",
      "Non-trainable params: 0\n",
      "_________________________________________________________________\n",
      "None\n"
     ]
    }
   ],
   "source": [
    "model = build_model(window_size, 0.2, 'linear', 'mse', 'adam')\n",
    "print (model.summary())"
   ]
  },
  {
   "cell_type": "markdown",
   "metadata": {},
   "source": [
    "## Training the Model"
   ]
  },
  {
   "cell_type": "code",
   "execution_count": 13,
   "metadata": {
    "scrolled": true
   },
   "outputs": [],
   "source": [
    "def train_model(model, X_train, Y_train, batch_num, num_epoch, val_split):\n",
    "    #Record the time the model starts training\n",
    "    start = time.time()\n",
    "\n",
    "    #Train the model on X_train and Y_train\n",
    "    model.fit(X_train, Y_train, batch_size= batch_num, nb_epoch=num_epoch, validation_split= val_split)\n",
    "\n",
    "    #time tooen to train the model (in seconds)\n",
    "    training_time = int(math.floor(time.time() - start))\n",
    "    return model, training_time"
   ]
  },
  {
   "cell_type": "code",
   "execution_count": 14,
   "metadata": {
    "scrolled": true
   },
   "outputs": [
    {
     "name": "stderr",
     "output_type": "stream",
     "text": [
      "C:\\Users\\pvpan\\Anaconda3\\lib\\site-packages\\ipykernel_launcher.py:6: UserWarning: The `nb_epoch` argument in `fit` has been renamed `epochs`.\n",
      "  \n"
     ]
    },
    {
     "name": "stdout",
     "output_type": "stream",
     "text": [
      "WARNING:tensorflow:From C:\\Users\\pvpan\\Anaconda3\\lib\\site-packages\\tensorflow\\python\\ops\\math_ops.py:3066: to_int32 (from tensorflow.python.ops.math_ops) is deprecated and will be removed in a future version.\n",
      "Instructions for updating:\n",
      "Use tf.cast instead.\n",
      "Train on 2280 samples, validate on 120 samples\n",
      "Epoch 1/100\n",
      "2280/2280 [==============================] - 46s 20ms/step - loss: 2.9128 - val_loss: 1.6877\n",
      "Epoch 2/100\n",
      "2280/2280 [==============================] - 8s 4ms/step - loss: 2.2083 - val_loss: 1.1802\n",
      "Epoch 3/100\n",
      "2280/2280 [==============================] - 9s 4ms/step - loss: 1.8051 - val_loss: 0.7834\n",
      "Epoch 4/100\n",
      "2280/2280 [==============================] - 9s 4ms/step - loss: 1.4318 - val_loss: 0.5971\n",
      "Epoch 5/100\n",
      "2280/2280 [==============================] - 9s 4ms/step - loss: 1.2335 - val_loss: 0.6135\n",
      "Epoch 6/100\n",
      "2280/2280 [==============================] - 9s 4ms/step - loss: 1.0419 - val_loss: 0.5800\n",
      "Epoch 7/100\n",
      "2280/2280 [==============================] - 8s 4ms/step - loss: 0.8180 - val_loss: 0.4805\n",
      "Epoch 8/100\n",
      "2280/2280 [==============================] - 8s 4ms/step - loss: 0.6714 - val_loss: 0.3481\n",
      "Epoch 9/100\n",
      "2280/2280 [==============================] - 8s 4ms/step - loss: 0.5319 - val_loss: 0.2390\n",
      "Epoch 10/100\n",
      "2280/2280 [==============================] - 9s 4ms/step - loss: 0.4182 - val_loss: 0.2112\n",
      "Epoch 11/100\n",
      "2280/2280 [==============================] - 8s 4ms/step - loss: 0.3493 - val_loss: 0.1700\n",
      "Epoch 12/100\n",
      "2280/2280 [==============================] - 9s 4ms/step - loss: 0.2977 - val_loss: 0.1545\n",
      "Epoch 13/100\n",
      "2280/2280 [==============================] - 8s 4ms/step - loss: 0.2704 - val_loss: 0.1865\n",
      "Epoch 14/100\n",
      "2280/2280 [==============================] - 9s 4ms/step - loss: 0.2451 - val_loss: 0.1958\n",
      "Epoch 15/100\n",
      "2280/2280 [==============================] - 10s 4ms/step - loss: 0.2210 - val_loss: 0.0982\n",
      "Epoch 16/100\n",
      "2280/2280 [==============================] - 8s 4ms/step - loss: 0.2018 - val_loss: 0.1423\n",
      "Epoch 17/100\n",
      "2280/2280 [==============================] - 10s 4ms/step - loss: 0.1865 - val_loss: 0.1189\n",
      "Epoch 18/100\n",
      "2280/2280 [==============================] - 8s 4ms/step - loss: 0.1636 - val_loss: 0.1044\n",
      "Epoch 19/100\n",
      "2280/2280 [==============================] - 12s 5ms/step - loss: 0.1622 - val_loss: 0.1743\n",
      "Epoch 20/100\n",
      "2280/2280 [==============================] - 11s 5ms/step - loss: 0.1529 - val_loss: 0.1016\n",
      "Epoch 21/100\n",
      "2280/2280 [==============================] - 17s 8ms/step - loss: 0.1332 - val_loss: 0.0962\n",
      "Epoch 22/100\n",
      "2280/2280 [==============================] - 10s 4ms/step - loss: 0.1244 - val_loss: 0.1373\n",
      "Epoch 23/100\n",
      "2280/2280 [==============================] - 11s 5ms/step - loss: 0.1200 - val_loss: 0.0764\n",
      "Epoch 24/100\n",
      "2280/2280 [==============================] - 20s 9ms/step - loss: 0.1201 - val_loss: 0.1273\n",
      "Epoch 25/100\n",
      "2280/2280 [==============================] - 12s 5ms/step - loss: 0.1123 - val_loss: 0.1701\n",
      "Epoch 26/100\n",
      "2280/2280 [==============================] - 8s 4ms/step - loss: 0.1096 - val_loss: 0.0867\n",
      "Epoch 27/100\n",
      "2280/2280 [==============================] - 8s 4ms/step - loss: 0.1027 - val_loss: 0.1979\n",
      "Epoch 28/100\n",
      "2280/2280 [==============================] - 8s 4ms/step - loss: 0.0992 - val_loss: 0.1326\n",
      "Epoch 29/100\n",
      "2280/2280 [==============================] - 8s 3ms/step - loss: 0.1008 - val_loss: 0.2060\n",
      "Epoch 30/100\n",
      "2280/2280 [==============================] - 8s 3ms/step - loss: 0.0932 - val_loss: 0.2060\n",
      "Epoch 31/100\n",
      "2280/2280 [==============================] - 8s 4ms/step - loss: 0.0864 - val_loss: 0.1275\n",
      "Epoch 32/100\n",
      "2280/2280 [==============================] - 8s 4ms/step - loss: 0.0841 - val_loss: 0.2981\n",
      "Epoch 33/100\n",
      "2280/2280 [==============================] - 9s 4ms/step - loss: 0.0826 - val_loss: 0.3025\n",
      "Epoch 34/100\n",
      "2280/2280 [==============================] - 12s 5ms/step - loss: 0.0823 - val_loss: 0.0760\n",
      "Epoch 35/100\n",
      "2280/2280 [==============================] - 8s 4ms/step - loss: 0.0763 - val_loss: 0.0579\n",
      "Epoch 36/100\n",
      "2280/2280 [==============================] - 9s 4ms/step - loss: 0.0736 - val_loss: 0.0798\n",
      "Epoch 37/100\n",
      "2280/2280 [==============================] - 11s 5ms/step - loss: 0.0727 - val_loss: 0.1369\n",
      "Epoch 38/100\n",
      "2280/2280 [==============================] - 12s 5ms/step - loss: 0.0750 - val_loss: 0.0490\n",
      "Epoch 39/100\n",
      "2280/2280 [==============================] - 9s 4ms/step - loss: 0.0765 - val_loss: 0.1489\n",
      "Epoch 40/100\n",
      "2280/2280 [==============================] - 9s 4ms/step - loss: 0.0699 - val_loss: 0.0846\n",
      "Epoch 41/100\n",
      "2280/2280 [==============================] - 8s 3ms/step - loss: 0.0691 - val_loss: 0.1894\n",
      "Epoch 42/100\n",
      "2280/2280 [==============================] - 12s 5ms/step - loss: 0.0678 - val_loss: 0.2366\n",
      "Epoch 43/100\n",
      "2280/2280 [==============================] - 10s 4ms/step - loss: 0.0641 - val_loss: 0.1485\n",
      "Epoch 44/100\n",
      "2280/2280 [==============================] - 8s 4ms/step - loss: 0.0643 - val_loss: 0.2100\n",
      "Epoch 45/100\n",
      "2280/2280 [==============================] - 11s 5ms/step - loss: 0.0608 - val_loss: 0.1717\n",
      "Epoch 46/100\n",
      "2280/2280 [==============================] - 9s 4ms/step - loss: 0.0633 - val_loss: 0.1396\n",
      "Epoch 47/100\n",
      "2280/2280 [==============================] - 9s 4ms/step - loss: 0.0575 - val_loss: 0.0945\n",
      "Epoch 48/100\n",
      "2280/2280 [==============================] - 10s 4ms/step - loss: 0.0551 - val_loss: 0.0617\n",
      "Epoch 49/100\n",
      "2280/2280 [==============================] - 9s 4ms/step - loss: 0.0556 - val_loss: 0.0825\n",
      "Epoch 50/100\n",
      "2280/2280 [==============================] - 15s 7ms/step - loss: 0.0515 - val_loss: 0.0655\n",
      "Epoch 51/100\n",
      "2280/2280 [==============================] - 12s 5ms/step - loss: 0.0518 - val_loss: 0.0459\n",
      "Epoch 52/100\n",
      "2280/2280 [==============================] - 9s 4ms/step - loss: 0.0486 - val_loss: 0.0721\n",
      "Epoch 53/100\n",
      "2280/2280 [==============================] - 10s 4ms/step - loss: 0.0485 - val_loss: 0.0507\n",
      "Epoch 54/100\n",
      "2280/2280 [==============================] - 20s 9ms/step - loss: 0.0444 - val_loss: 0.0409\n",
      "Epoch 55/100\n",
      "2280/2280 [==============================] - 12s 5ms/step - loss: 0.0453 - val_loss: 0.1445\n",
      "Epoch 56/100\n",
      "2280/2280 [==============================] - 9s 4ms/step - loss: 0.0462 - val_loss: 0.1105\n",
      "Epoch 57/100\n",
      "2280/2280 [==============================] - 9s 4ms/step - loss: 0.0417 - val_loss: 0.0863\n",
      "Epoch 58/100\n",
      "2280/2280 [==============================] - 11s 5ms/step - loss: 0.0425 - val_loss: 0.1374\n",
      "Epoch 59/100\n",
      "2280/2280 [==============================] - 8s 4ms/step - loss: 0.0408 - val_loss: 0.1075\n",
      "Epoch 60/100\n",
      "2280/2280 [==============================] - 8s 4ms/step - loss: 0.0420 - val_loss: 0.0775\n",
      "Epoch 61/100\n",
      "2280/2280 [==============================] - 9s 4ms/step - loss: 0.0410 - val_loss: 0.1301\n",
      "Epoch 62/100\n",
      "2280/2280 [==============================] - 9s 4ms/step - loss: 0.0416 - val_loss: 0.0684\n",
      "Epoch 63/100\n",
      "2280/2280 [==============================] - 9s 4ms/step - loss: 0.0385 - val_loss: 0.1278\n",
      "Epoch 64/100\n",
      "2280/2280 [==============================] - 8s 4ms/step - loss: 0.0362 - val_loss: 0.0923\n",
      "Epoch 65/100\n",
      "2280/2280 [==============================] - 9s 4ms/step - loss: 0.0368 - val_loss: 0.0542\n",
      "Epoch 66/100\n",
      "2280/2280 [==============================] - 9s 4ms/step - loss: 0.0368 - val_loss: 0.1151\n",
      "Epoch 67/100\n",
      "2280/2280 [==============================] - 8s 3ms/step - loss: 0.0393 - val_loss: 0.0794\n",
      "Epoch 68/100\n",
      "2280/2280 [==============================] - 8s 4ms/step - loss: 0.0359 - val_loss: 0.0746\n",
      "Epoch 69/100\n",
      "2280/2280 [==============================] - 9s 4ms/step - loss: 0.0347 - val_loss: 0.0566\n",
      "Epoch 70/100\n",
      "2280/2280 [==============================] - 9s 4ms/step - loss: 0.0340 - val_loss: 0.0457\n",
      "Epoch 71/100\n",
      "2280/2280 [==============================] - 9s 4ms/step - loss: 0.0343 - val_loss: 0.0693\n",
      "Epoch 72/100\n",
      "2280/2280 [==============================] - 10s 4ms/step - loss: 0.0386 - val_loss: 0.0510\n",
      "Epoch 73/100\n",
      "2280/2280 [==============================] - 10s 4ms/step - loss: 0.0364 - val_loss: 0.0819\n",
      "Epoch 74/100\n",
      "2280/2280 [==============================] - 11s 5ms/step - loss: 0.0343 - val_loss: 0.1321\n",
      "Epoch 75/100\n",
      "2280/2280 [==============================] - 9s 4ms/step - loss: 0.0369 - val_loss: 0.1056\n",
      "Epoch 76/100\n",
      "2280/2280 [==============================] - 9s 4ms/step - loss: 0.0328 - val_loss: 0.0754\n",
      "Epoch 77/100\n",
      "2280/2280 [==============================] - 12s 5ms/step - loss: 0.0343 - val_loss: 0.1085\n",
      "Epoch 78/100\n",
      "2280/2280 [==============================] - 11s 5ms/step - loss: 0.0306 - val_loss: 0.0931\n",
      "Epoch 79/100\n",
      "2280/2280 [==============================] - 13s 6ms/step - loss: 0.0331 - val_loss: 0.1114\n",
      "Epoch 80/100\n",
      "2280/2280 [==============================] - 10s 5ms/step - loss: 0.0350 - val_loss: 0.1821\n",
      "Epoch 81/100\n",
      "2280/2280 [==============================] - 10s 4ms/step - loss: 0.0360 - val_loss: 0.1318\n",
      "Epoch 82/100\n",
      "2280/2280 [==============================] - 9s 4ms/step - loss: 0.0359 - val_loss: 0.2035\n",
      "Epoch 83/100\n",
      "2280/2280 [==============================] - 8s 4ms/step - loss: 0.0352 - val_loss: 0.1752\n",
      "Epoch 84/100\n",
      "2280/2280 [==============================] - 8s 4ms/step - loss: 0.0313 - val_loss: 0.1407\n",
      "Epoch 85/100\n",
      "2280/2280 [==============================] - 9s 4ms/step - loss: 0.0284 - val_loss: 0.1535\n",
      "Epoch 86/100\n",
      "2280/2280 [==============================] - 8s 3ms/step - loss: 0.0279 - val_loss: 0.1414\n",
      "Epoch 87/100\n",
      "2280/2280 [==============================] - 8s 4ms/step - loss: 0.0283 - val_loss: 0.1361\n",
      "Epoch 88/100\n",
      "2280/2280 [==============================] - 8s 4ms/step - loss: 0.0266 - val_loss: 0.1521\n",
      "Epoch 89/100\n",
      "2280/2280 [==============================] - 8s 4ms/step - loss: 0.0272 - val_loss: 0.1620\n",
      "Epoch 90/100\n",
      "2280/2280 [==============================] - 8s 3ms/step - loss: 0.0268 - val_loss: 0.2037\n",
      "Epoch 91/100\n",
      "2280/2280 [==============================] - 8s 3ms/step - loss: 0.0260 - val_loss: 0.1204\n",
      "Epoch 92/100\n",
      "2280/2280 [==============================] - 9s 4ms/step - loss: 0.0237 - val_loss: 0.1621\n",
      "Epoch 93/100\n",
      "2280/2280 [==============================] - 8s 3ms/step - loss: 0.0249 - val_loss: 0.1427\n",
      "Epoch 94/100\n",
      "2280/2280 [==============================] - 10s 4ms/step - loss: 0.0251 - val_loss: 0.1610\n",
      "Epoch 95/100\n",
      "2280/2280 [==============================] - 10s 4ms/step - loss: 0.0232 - val_loss: 0.1787\n",
      "Epoch 96/100\n",
      "2280/2280 [==============================] - 9s 4ms/step - loss: 0.0230 - val_loss: 0.1489\n",
      "Epoch 97/100\n",
      "2280/2280 [==============================] - 8s 3ms/step - loss: 0.0214 - val_loss: 0.1410\n",
      "Epoch 98/100\n",
      "2280/2280 [==============================] - 8s 3ms/step - loss: 0.0213 - val_loss: 0.0867\n",
      "Epoch 99/100\n",
      "2280/2280 [==============================] - 8s 3ms/step - loss: 0.0235 - val_loss: 0.1307\n",
      "Epoch 100/100\n",
      "2280/2280 [==============================] - 8s 3ms/step - loss: 0.0223 - val_loss: 0.1540\n",
      "Training time 1005 seconds\n"
     ]
    }
   ],
   "source": [
    "model, training_time = train_model(model, X_train, Y_train, 1024, 100, .05)\n",
    "\n",
    "print (\"Training time\", training_time, \"seconds\")"
   ]
  },
  {
   "cell_type": "markdown",
   "metadata": {},
   "source": [
    "## Testing the Model\n"
   ]
  },
  {
   "cell_type": "code",
   "execution_count": 15,
   "metadata": {
    "scrolled": true
   },
   "outputs": [],
   "source": [
    "def test_model(model, X_test, Y_test, unnormalized_bases):\n",
    "    #Testing the model on X_Test\n",
    "    y_predict = model.predict(X_test)\n",
    "\n",
    "    #Creating empty arrays to store unnormalized values\n",
    "    real_y_test = np.zeros_like(Y_test)\n",
    "    real_y_predict = np.zeros_like(y_predict)\n",
    "\n",
    "    #Fill arrays with the real value and the predicted value by reversing the normalization process\n",
    "    for i in range(Y_test.shape[0]):\n",
    "        y = Y_test[i]\n",
    "        predict = y_predict[i]\n",
    "        real_y_test[i] = (y+1)*unnormalized_bases[i]\n",
    "        real_y_predict[i] = (predict+1)*unnormalized_bases[i]\n",
    "\n",
    "    #Plot of the predicted prices versus the real prices\n",
    "    fig = plt.figure(figsize=(10,5))\n",
    "    ax = fig.add_subplot(111)\n",
    "    ax.set_title(\"Bitcoin Price Over Time\")\n",
    "    plt.plot(real_y_predict, color = 'green', label = 'Predicted Price')\n",
    "    plt.plot(real_y_test, color = 'red', label = 'Real Price')\n",
    "    ax.set_ylabel(\"Price in USD\")\n",
    "    ax.set_xlabel(\"Time in Days\")\n",
    "    ax.legend()\n",
    "    \n",
    "    return y_predict, real_y_test, real_y_predict, fig"
   ]
  },
  {
   "cell_type": "code",
   "execution_count": 16,
   "metadata": {},
   "outputs": [
    {
     "data": {
      "image/png": "[encoded data removed]",
      "text/plain": [
       "<Figure size 720x360 with 1 Axes>"
      ]
     },
     "metadata": {
      "needs_background": "light"
     },
     "output_type": "display_data"
    }
   ],
   "source": [
    "y_predict, real_y_test, real_y_predict, fig1 = test_model(model, X_test, Y_test, unnormalized_bases)\n",
    "\n",
    "#Show the plot\n",
    "plt.show(fig1)"
   ]
  },
  {
   "cell_type": "markdown",
   "metadata": {},
   "source": [
    "## Evaluating Price Change"
   ]
  },
  {
   "cell_type": "code",
   "execution_count": 17,
   "metadata": {},
   "outputs": [],
   "source": [
    "def evaluate_price_change(Y_daybefore, Y_test, y_predict):\n",
    "    #Reshaping Y_daybefore and Y_test\n",
    "    Y_daybefore = np.reshape(Y_daybefore, (-1, 1))\n",
    "    Y_test = np.reshape(Y_test, (-1, 1))\n",
    "\n",
    "    #The difference between each predicted value and the value from the day before\n",
    "    delta_predict = (y_predict - Y_daybefore) / (1+Y_daybefore)\n",
    "\n",
    "    #The difference between each true value and the value from the day before\n",
    "    delta_real = (Y_test - Y_daybefore) / (1+Y_daybefore)\n",
    "\n",
    "    #Plotting the predicted percent change versus the real percent change\n",
    "    fig = plt.figure(figsize=(10, 6))\n",
    "    ax = fig.add_subplot(111)\n",
    "    ax.set_title(\"Percent Change in Bitcoin Price Per Day\")\n",
    "    plt.plot(delta_predict, color='green', label = 'Predicted Percent Change')\n",
    "    plt.plot(delta_real, color='red', label = 'Real Percent Change')\n",
    "    plt.ylabel(\"Percent Change\")\n",
    "    plt.xlabel(\"Time (Days)\")\n",
    "    ax.legend()\n",
    "    plt.show()\n",
    "    \n",
    "    return Y_daybefore, Y_test, delta_predict, delta_real, fig"
   ]
  },
  {
   "cell_type": "code",
   "execution_count": 18,
   "metadata": {},
   "outputs": [
    {
     "data": {
      "image/png": "[encoded data removed]",
      "text/plain": [
       "<Figure size 720x432 with 1 Axes>"
      ]
     },
     "metadata": {
      "needs_background": "light"
     },
     "output_type": "display_data"
    }
   ],
   "source": [
    "Y_daybefore, Y_test, delta_predict, delta_real, fig2 = evaluate_price_change(Y_daybefore, Y_test, y_predict)\n",
    "\n",
    "#Show the plot\n",
    "plt.show(fig2)"
   ]
  },
  {
   "cell_type": "code",
   "execution_count": 19,
   "metadata": {
    "scrolled": true
   },
   "outputs": [],
   "source": [
    "def convert_to_binary_price(delta_predict, delta_real):\n",
    "    #Empty arrays where a 1 represents an increase in price and a 0 represents a decrease in price\n",
    "    delta_predict_1_0 = np.empty(delta_predict.shape)\n",
    "    delta_real_1_0 = np.empty(delta_real.shape)\n",
    "\n",
    "    #If the change in price is greater than zero, store it as a 1\n",
    "    #If the change in price is less than zero, store it as a 0\n",
    "    for i in range(delta_predict.shape[0]):\n",
    "        if delta_predict[i][0] > 0:\n",
    "            delta_predict_1_0[i][0] = 1\n",
    "        else:\n",
    "            delta_predict_1_0[i][0] = 0\n",
    "    for i in range(delta_real.shape[0]):\n",
    "        if delta_real[i][0] > 0:\n",
    "            delta_real_1_0[i][0] = 1\n",
    "        else:\n",
    "            delta_real_1_0[i][0] = 0    \n",
    "\n",
    "    return delta_predict_1_0, delta_real_1_0"
   ]
  },
  {
   "cell_type": "code",
   "execution_count": 20,
   "metadata": {},
   "outputs": [
    {
     "name": "stdout",
     "output_type": "stream",
     "text": [
      "(267, 1)\n",
      "(267, 1)\n"
     ]
    }
   ],
   "source": [
    "delta_predict_1_0, delta_real_1_0 = convert_to_binary_price(delta_predict, delta_real)\n",
    "\n",
    "print (delta_predict_1_0.shape)\n",
    "print (delta_real_1_0.shape)"
   ]
  },
  {
   "cell_type": "markdown",
   "metadata": {},
   "source": [
    "## Comparing Prediction and Real Data\n"
   ]
  },
  {
   "cell_type": "code",
   "execution_count": 21,
   "metadata": {},
   "outputs": [],
   "source": [
    "def convertto_positives_negatives(delta_predict_1_0, delta_real_1_0):\n",
    "    #Finding the number of false positive/negatives and true positives/negatives\n",
    "    true_pos = 0\n",
    "    false_pos = 0\n",
    "    true_neg = 0\n",
    "    false_neg = 0\n",
    "    for i in range(delta_real_1_0.shape[0]):\n",
    "        real = delta_real_1_0[i][0]\n",
    "        predicted = delta_predict_1_0[i][0]\n",
    "        if real == 1:\n",
    "            if predicted == 1:\n",
    "                true_pos += 1\n",
    "            else:\n",
    "                false_neg += 1\n",
    "        elif real == 0:\n",
    "            if predicted == 0:\n",
    "                true_neg += 1\n",
    "            else:\n",
    "                false_pos += 1\n",
    "    return true_pos, false_pos, true_neg, false_neg"
   ]
  },
  {
   "cell_type": "code",
   "execution_count": 22,
   "metadata": {},
   "outputs": [
    {
     "name": "stdout",
     "output_type": "stream",
     "text": [
      "True positives: 85\n",
      "False positives: 58\n",
      "True negatives: 41\n",
      "False negatives: 83\n"
     ]
    }
   ],
   "source": [
    "true_pos, false_pos, true_neg, false_neg = convertto_positives_negatives(delta_predict_1_0, delta_real_1_0)\n",
    "print (\"True positives:\", true_pos)\n",
    "print (\"False positives:\", false_pos)\n",
    "print (\"True negatives:\", true_neg)\n",
    "print (\"False negatives:\", false_neg)"
   ]
  },
  {
   "cell_type": "markdown",
   "metadata": {},
   "source": [
    "## Calculating Statistics"
   ]
  },
  {
   "cell_type": "code",
   "execution_count": 23,
   "metadata": {},
   "outputs": [],
   "source": [
    "def calculate_statistics(true_pos, false_pos, true_neg, false_neg, y_predict, Y_test):\n",
    " \n",
    "    precision = float(true_pos) / (true_pos + false_pos)\n",
    "    recall = float(true_pos) / (true_pos + false_neg)\n",
    "    F1 = float(2 * precision * recall) / (precision + recall)\n",
    "    #Get Mean Squared Error\n",
    "    MSE = mean_squared_error(y_predict.flatten(), Y_test.flatten())\n",
    "\n",
    "    return precision, recall, F1, MSE"
   ]
  },
  {
   "cell_type": "code",
   "execution_count": 24,
   "metadata": {
    "scrolled": false
   },
   "outputs": [
    {
     "name": "stdout",
     "output_type": "stream",
     "text": [
      "Precision: 0.5944055944055944\n",
      "Recall: 0.5059523809523809\n",
      "F1 score: 0.5466237942122186\n",
      "Mean Squared Error: 0.056301157616007916\n"
     ]
    }
   ],
   "source": [
    "precision, recall, F1, MSE = calculate_statistics(true_pos, false_pos, true_neg, false_neg, y_predict, Y_test)\n",
    "print (\"Precision:\", precision)\n",
    "print (\"Recall:\", recall)\n",
    "print (\"F1 score:\", F1)\n",
    "print (\"Mean Squared Error:\", MSE)"
   ]
  },
  {
   "cell_type": "code",
   "execution_count": null,
   "metadata": {},
   "outputs": [],
   "source": []
  },
  {
   "cell_type": "code",
   "execution_count": null,
   "metadata": {},
   "outputs": [],
   "source": []
  }
 ],
 "metadata": {
  "kernelspec": {
   "display_name": "Python 3",
   "language": "python",
   "name": "python3"
  },
  "language_info": {
   "codemirror_mode": {
    "name": "ipython",
    "version": 3
   },
   "file_extension": ".py",
   "mimetype": "text/x-python",
   "name": "python",
   "nbconvert_exporter": "python",
   "pygments_lexer": "ipython3",
   "version": "3.7.3"
  }
 },
 "nbformat": 4,
 "nbformat_minor": 2
}
